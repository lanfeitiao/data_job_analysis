{
 "cells": [
  {
   "cell_type": "code",
   "execution_count": 37,
   "metadata": {},
   "outputs": [],
   "source": [
    "import json\n",
    "import os\n",
    "from langdetect import detect\n",
    "import pandas as pd"
   ]
  },
  {
   "cell_type": "code",
   "execution_count": 29,
   "metadata": {},
   "outputs": [],
   "source": [
    "# Understand structure of the JSON file\n",
    "with open(\"../data/raw/2024-07-09/3809446969/rawJobDetails.json\", 'r') as file:\n",
    "    data = json.load(file)"
   ]
  },
  {
   "cell_type": "code",
   "execution_count": 21,
   "metadata": {},
   "outputs": [],
   "source": [
    "def print_structure(d, indent=0):\n",
    "    for key, value in d.items():\n",
    "        print('  ' * indent + str(key))\n",
    "        if isinstance(value, dict):\n",
    "            print_structure(value, indent+1)\n",
    "        elif isinstance(value, list) and value and isinstance(value[0], dict):\n",
    "            print('  ' * (indent+1) + 'List of Dictionaries...')\n",
    "        else:\n",
    "            print('  ' * (indent+1) + str(type(value)))"
   ]
  },
  {
   "cell_type": "code",
   "execution_count": 22,
   "metadata": {},
   "outputs": [
    {
     "name": "stdout",
     "output_type": "stream",
     "text": [
      "dashEntityUrn\n",
      "  <class 'str'>\n",
      "companyDetails\n",
      "  com.linkedin.voyager.deco.jobs.web.shared.WebCompactJobPostingCompany\n",
      "    companyResolutionResult\n",
      "      entityUrn\n",
      "        <class 'str'>\n",
      "      name\n",
      "        <class 'str'>\n",
      "      logo\n",
      "        image\n",
      "          com.linkedin.common.VectorImage\n",
      "            artifacts\n",
      "              List of Dictionaries...\n",
      "            rootUrl\n",
      "              <class 'str'>\n",
      "        type\n",
      "          <class 'str'>\n",
      "      $recipeType\n",
      "        <class 'str'>\n",
      "      universalName\n",
      "        <class 'str'>\n",
      "      url\n",
      "        <class 'str'>\n",
      "    company\n",
      "      <class 'str'>\n",
      "    $recipeType\n",
      "      <class 'str'>\n",
      "jobState\n",
      "  <class 'str'>\n",
      "description\n",
      "  attributes\n",
      "    List of Dictionaries...\n",
      "  text\n",
      "    <class 'str'>\n",
      "title\n",
      "  <class 'str'>\n",
      "entityUrn\n",
      "  <class 'str'>\n",
      "workRemoteAllowed\n",
      "  <class 'bool'>\n",
      "applyMethod\n",
      "  com.linkedin.voyager.jobs.OffsiteApply\n",
      "    applyStartersPreferenceVoid\n",
      "      <class 'bool'>\n",
      "    companyApplyUrl\n",
      "      <class 'str'>\n",
      "    inPageOffsiteApply\n",
      "      <class 'bool'>\n",
      "talentHubJob\n",
      "  <class 'bool'>\n",
      "formattedLocation\n",
      "  <class 'str'>\n",
      "workplaceTypes\n",
      "  <class 'list'>\n",
      "listedAt\n",
      "  <class 'int'>\n",
      "jobPostingId\n",
      "  <class 'int'>\n",
      "$recipeType\n",
      "  <class 'str'>\n",
      "workplaceTypesResolutionResults\n",
      "  urn:li:fs_workplaceType:1\n",
      "    localizedName\n",
      "      <class 'str'>\n",
      "    $recipeType\n",
      "      <class 'str'>\n",
      "    entityUrn\n",
      "      <class 'str'>\n"
     ]
    }
   ],
   "source": [
    "print_structure(data)"
   ]
  },
  {
   "cell_type": "markdown",
   "metadata": {},
   "source": [
    "# Extract useful information from JSON file "
   ]
  },
  {
   "cell_type": "code",
   "execution_count": 60,
   "metadata": {},
   "outputs": [],
   "source": [
    "def extract_data (data):\n",
    "    ''' Extracts necessary information from a given JSON data dictionary.'''\n",
    "    try:\n",
    "        state = data['jobState'] if 'jobState' in data else None\n",
    "        job_title = data['title'] if 'title' in data else None\n",
    "        location = data['formattedLocation'] if 'formattedLocation' in data else None\n",
    "        list_time = data['listedAt']\n",
    "        id = data['jobPostingId']\n",
    "        # workplace_type_key = data['workplaceTypes'][0] \n",
    "        # workplace_type = data['workplaceTypesResolutionResults'][workplace_type_key]['localizedName']\n",
    "        description = data['description']['text']\n",
    "        return {'id':id, 'list_time':list_time,'state': state, 'job_title': job_title, 'location':location,\n",
    "                'workplace_type': workplace_type, 'description': description }\n",
    "    except KeyError as e :\n",
    "        print(f'Missing key{e} in the JSON structure')\n"
   ]
  },
  {
   "cell_type": "code",
   "execution_count": 61,
   "metadata": {},
   "outputs": [
    {
     "name": "stdout",
     "output_type": "stream",
     "text": [
      "           id      list_time   state  \\\n",
      "0  3970706732  1720508350000  LISTED   \n",
      "1  3969317415  1720486857000  LISTED   \n",
      "2  3964393203  1720541335000  LISTED   \n",
      "3  3970162583  1720537140000  LISTED   \n",
      "4  3970738450  1720515754000  LISTED   \n",
      "\n",
      "                                           job_title  \\\n",
      "0                         Data Analytics Traineeship   \n",
      "1                                      Data Engineer   \n",
      "2      Onderzoeksassistent Gynaecologische oncologie   \n",
      "3  Arts promovendus voor een klinisch promotiepro...   \n",
      "4                                            Analyst   \n",
      "\n",
      "                                location workplace_type  \\\n",
      "0                   Utrecht, Netherlands        On-site   \n",
      "1  Rotterdam, South Holland, Netherlands        On-site   \n",
      "2  Amsterdam, North Holland, Netherlands        On-site   \n",
      "3  Rotterdam, South Holland, Netherlands        On-site   \n",
      "4                         Amsterdam Area        On-site   \n",
      "\n",
      "                                         description  \n",
      "0  ErasmusTalent.nl is een online carrièreplatfor...  \n",
      "1  So, you are a Data Engineer and want to build ...  \n",
      "2  Wil jij meewerken aan twee projecten om de (na...  \n",
      "3  Functie inhoud\\n\\nAls arts promovendus werk je...  \n",
      "4  About the CompanyAngove Partners is working wi...  \n"
     ]
    }
   ],
   "source": [
    "base_path = '../data/raw/2024-07-09/'\n",
    "all_jobs = []\n",
    "for root, dirs, files in os.walk(base_path):\n",
    "    for file in files:\n",
    "        if file =='rawJobDetails.json':\n",
    "            full_path = os.path.join(root, file)\n",
    "            with open(full_path, 'r') as file:\n",
    "                data = json.load(file)\n",
    "                extracted_data = extract_data(data)\n",
    "                all_jobs.append(extracted_data)\n",
    "\n",
    "df = pd.DataFrame(all_jobs)\n",
    "\n",
    "print(df.head())"
   ]
  },
  {
   "cell_type": "code",
   "execution_count": 58,
   "metadata": {},
   "outputs": [
    {
     "name": "stdout",
     "output_type": "stream",
     "text": [
      "            id      list_time state     job_title  \\\n",
      "94  3806724725  1720519343000  None  R&D Engineer   \n",
      "\n",
      "                                    location workplace_type  \\\n",
      "94  Alblasserdam, South Holland, Netherlands        On-site   \n",
      "\n",
      "                                          description  \n",
      "94  We zijn op zoek naar een Research & Developmen...  \n"
     ]
    }
   ],
   "source": [
    "print(df[df['id'] == 3806724725])"
   ]
  },
  {
   "cell_type": "code",
   "execution_count": 31,
   "metadata": {},
   "outputs": [
    {
     "data": {
      "text/plain": [
       "'en'"
      ]
     },
     "execution_count": 31,
     "metadata": {},
     "output_type": "execute_result"
    }
   ],
   "source": [
    "def lang_detect(text):\n",
    "    try:\n",
    "        ln = detect(text)\n",
    "    except:\n",
    "        ln = None\n",
    "    return ln\n",
    "\n",
    "lang_detect(text)"
   ]
  }
 ],
 "metadata": {
  "kernelspec": {
   "display_name": "base",
   "language": "python",
   "name": "python3"
  },
  "language_info": {
   "codemirror_mode": {
    "name": "ipython",
    "version": 3
   },
   "file_extension": ".py",
   "mimetype": "text/x-python",
   "name": "python",
   "nbconvert_exporter": "python",
   "pygments_lexer": "ipython3",
   "version": "3.11.5"
  }
 },
 "nbformat": 4,
 "nbformat_minor": 2
}
